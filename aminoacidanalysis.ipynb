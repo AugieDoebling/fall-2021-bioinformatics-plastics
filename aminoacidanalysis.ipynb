{
 "cells": [
  {
   "cell_type": "code",
   "execution_count": 5,
   "id": "adult-michael",
   "metadata": {},
   "outputs": [],
   "source": [
    "import pandas as pd\n",
    "import numpy as np"
   ]
  },
  {
   "cell_type": "code",
   "execution_count": 24,
   "id": "continent-solid",
   "metadata": {},
   "outputs": [
    {
     "data": {
      "text/html": [
       "<div>\n",
       "<style scoped>\n",
       "    .dataframe tbody tr th:only-of-type {\n",
       "        vertical-align: middle;\n",
       "    }\n",
       "\n",
       "    .dataframe tbody tr th {\n",
       "        vertical-align: top;\n",
       "    }\n",
       "\n",
       "    .dataframe thead th {\n",
       "        text-align: right;\n",
       "    }\n",
       "</style>\n",
       "<table border=\"1\" class=\"dataframe\">\n",
       "  <thead>\n",
       "    <tr style=\"text-align: right;\">\n",
       "      <th></th>\n",
       "      <th>Index</th>\n",
       "      <th>Enzyme</th>\n",
       "      <th>RegionIndex</th>\n",
       "      <th>RegionData</th>\n",
       "    </tr>\n",
       "  </thead>\n",
       "  <tbody>\n",
       "    <tr>\n",
       "      <th>0</th>\n",
       "      <td>0</td>\n",
       "      <td>&gt;sp|A9GMG8|CE1_SORC5 Multifunctional esterase ...</td>\n",
       "      <td>[20, 144]</td>\n",
       "      <td>ALPARGASLQKVNQSEWGADGLPSYVNMYIYVPDKLATKPPIVVAP...</td>\n",
       "    </tr>\n",
       "    <tr>\n",
       "      <th>1</th>\n",
       "      <td>1</td>\n",
       "      <td>&gt;sp|P12625|PHB_RALPI Poly(3-hydroxybutyrate) d...</td>\n",
       "      <td>[20, 138]</td>\n",
       "      <td>CAFPLHAATAGPGAWSSQQTWAADSVNGGNLTGYFYWPASQPTTPN...</td>\n",
       "    </tr>\n",
       "    <tr>\n",
       "      <th>2</th>\n",
       "      <td>2</td>\n",
       "      <td>&gt;sp|P52090|PHA1_PAULE Poly(3-hydroxyalkanoate)...</td>\n",
       "      <td>[20, 130]</td>\n",
       "      <td>LFAAPIILAVSSSSVYALTQVSNFGTNPGNLQMFKHVPSGMPANAP...</td>\n",
       "    </tr>\n",
       "    <tr>\n",
       "      <th>3</th>\n",
       "      <td>3</td>\n",
       "      <td>&gt;sp|P26495|PHAZ_PSEOL Poly(3-hydroxyalkanoate)...</td>\n",
       "      <td>[20, 65]</td>\n",
       "      <td>VRPGKPHLTPLLIFNGIGANLELVFPFIEALDPDLEVIAFDVPGV</td>\n",
       "    </tr>\n",
       "    <tr>\n",
       "      <th>4</th>\n",
       "      <td>4</td>\n",
       "      <td>&gt;tr|A0A0N0NC74|A0A0N0NC74_9ACTN Esterase, PHB ...</td>\n",
       "      <td>[20, 141]</td>\n",
       "      <td>RTPRTTSPEPLPERDKRVSNSPGRALRSLCGALLLLLTAALLTAPA...</td>\n",
       "    </tr>\n",
       "  </tbody>\n",
       "</table>\n",
       "</div>"
      ],
      "text/plain": [
       "   Index                                             Enzyme RegionIndex  \\\n",
       "0      0  >sp|A9GMG8|CE1_SORC5 Multifunctional esterase ...   [20, 144]   \n",
       "1      1  >sp|P12625|PHB_RALPI Poly(3-hydroxybutyrate) d...   [20, 138]   \n",
       "2      2  >sp|P52090|PHA1_PAULE Poly(3-hydroxyalkanoate)...   [20, 130]   \n",
       "3      3  >sp|P26495|PHAZ_PSEOL Poly(3-hydroxyalkanoate)...    [20, 65]   \n",
       "4      4  >tr|A0A0N0NC74|A0A0N0NC74_9ACTN Esterase, PHB ...   [20, 141]   \n",
       "\n",
       "                                          RegionData  \n",
       "0  ALPARGASLQKVNQSEWGADGLPSYVNMYIYVPDKLATKPPIVVAP...  \n",
       "1  CAFPLHAATAGPGAWSSQQTWAADSVNGGNLTGYFYWPASQPTTPN...  \n",
       "2  LFAAPIILAVSSSSVYALTQVSNFGTNPGNLQMFKHVPSGMPANAP...  \n",
       "3      VRPGKPHLTPLLIFNGIGANLELVFPFIEALDPDLEVIAFDVPGV  \n",
       "4  RTPRTTSPEPLPERDKRVSNSPGRALRSLCGALLLLLTAALLTAPA...  "
      ]
     },
     "execution_count": 24,
     "metadata": {},
     "output_type": "execute_result"
    }
   ],
   "source": [
    "df = pd.read_csv(\"final_uniprot_data.csv\")\n",
    "df.rename(columns={\"Unnamed: 0\": \"Index\"}, inplace=True)\n",
    "df.head()"
   ]
  },
  {
   "cell_type": "code",
   "execution_count": 50,
   "id": "incorrect-breathing",
   "metadata": {},
   "outputs": [],
   "source": [
    "def megatext():\n",
    "    megatext = ''\n",
    "    for i in df[\"RegionData\"]:\n",
    "        megatext += str(i)\n",
    "    return megatext \n",
    "\n",
    "def biochem():\n",
    "    biochem = {'R': '+', 'H': '+', 'K': '+',\n",
    "                  'D': '-', 'E': '-',\n",
    "                  'S': 'p', 'T': 'p', 'N': 'p', 'Q': 'p',\n",
    "                  'A': 'n', 'I': 'n', 'L': 'n', 'M': 'n', 'F': 'n', 'W': 'n', 'Y': 'n', 'V': 'n',\n",
    "                  'C':'s', 'U':'s', 'G': 's', 'P':'s'}\n",
    "    temp = ''\n",
    "    for l in megatext():\n",
    "        temp += str(biochem.get(l, l))\n",
    "    pos = 0\n",
    "    neg = 0\n",
    "    polar = 0\n",
    "    non = 0\n",
    "    special = 0\n",
    "    total = 0\n",
    "    for l in temp:        \n",
    "        if l == '+':\n",
    "            pos += 1\n",
    "        if l == '-':\n",
    "            neg += 1\n",
    "        if l == 'p':\n",
    "            polar += 1\n",
    "        if l == 'n':\n",
    "            non += 1\n",
    "        if l == 's':\n",
    "            special += 1\n",
    "        total += 1\n",
    "    return [pos/total, neg/total, polar/total, non/total, special/total]"
   ]
  },
  {
   "cell_type": "code",
   "execution_count": 62,
   "id": "fossil-diesel",
   "metadata": {},
   "outputs": [
    {
     "data": {
      "text/plain": [
       "[0.08242228827648748,\n",
       " 0.06232051992543705,\n",
       " 0.22892840949166204,\n",
       " 0.43453070683661643,\n",
       " 0.19179807546979696]"
      ]
     },
     "execution_count": 62,
     "metadata": {},
     "output_type": "execute_result"
    }
   ],
   "source": [
    "biochem()"
   ]
  },
  {
   "cell_type": "code",
   "execution_count": 57,
   "id": "excited-syndicate",
   "metadata": {},
   "outputs": [],
   "source": [
    "def progly():\n",
    "    pro = 0\n",
    "    gly = 0\n",
    "    total = 0\n",
    "    for l in megatext():\n",
    "        if l == 'P':\n",
    "            pro += 1\n",
    "        if l == 'G':\n",
    "            gly += 1\n",
    "        total += 1\n",
    "    return [pro/total, gly/total]"
   ]
  },
  {
   "cell_type": "code",
   "execution_count": 58,
   "id": "answering-scanner",
   "metadata": {},
   "outputs": [
    {
     "data": {
      "text/plain": [
       "[0.07335382135120157, 0.1017179706786236]"
      ]
     },
     "execution_count": 58,
     "metadata": {},
     "output_type": "execute_result"
    }
   ],
   "source": [
    "progly()"
   ]
  },
  {
   "cell_type": "code",
   "execution_count": 60,
   "id": "imperial-reader",
   "metadata": {},
   "outputs": [],
   "source": [
    "def phos():\n",
    "    ser = 0\n",
    "    threo = 0\n",
    "    tyro = 0\n",
    "    phos = 0\n",
    "    total = 0\n",
    "    aa = ['S', 'T', 'Y']\n",
    "    for l in megatext():\n",
    "        if l == 'S':\n",
    "            ser += 1\n",
    "        if l == 'T':\n",
    "            threo += 1\n",
    "        if l == 'Y':\n",
    "            tyro += 1\n",
    "        if l in aa:\n",
    "            phos += 1\n",
    "        total += 1\n",
    "    return [ser/total, threo/total, tyro/total, phos/total]"
   ]
  },
  {
   "cell_type": "code",
   "execution_count": 61,
   "id": "similar-bleeding",
   "metadata": {},
   "outputs": [
    {
     "data": {
      "text/plain": [
       "[0.09194417854803769,\n",
       " 0.06096024988664416,\n",
       " 0.05284901002569399,\n",
       " 0.20575343846037583]"
      ]
     },
     "execution_count": 61,
     "metadata": {},
     "output_type": "execute_result"
    }
   ],
   "source": [
    "phos()"
   ]
  },
  {
   "cell_type": "code",
   "execution_count": null,
   "id": "friendly-momentum",
   "metadata": {},
   "outputs": [],
   "source": [
    "df[\"chem\"] = array"
   ]
  }
 ],
 "metadata": {
  "kernelspec": {
   "display_name": "Python 3",
   "language": "python",
   "name": "python3"
  },
  "language_info": {
   "codemirror_mode": {
    "name": "ipython",
    "version": 3
   },
   "file_extension": ".py",
   "mimetype": "text/x-python",
   "name": "python",
   "nbconvert_exporter": "python",
   "pygments_lexer": "ipython3",
   "version": "3.7.3"
  }
 },
 "nbformat": 4,
 "nbformat_minor": 5
}
